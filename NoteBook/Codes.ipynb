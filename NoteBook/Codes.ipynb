{
 "cells": [
  {
   "cell_type": "markdown",
   "id": "96b02453",
   "metadata": {},
   "source": [
    "## Do Whales Move the Market"
   ]
  },
  {
   "cell_type": "markdown",
   "id": "bf7d342e",
   "metadata": {},
   "source": [
    "### Environment and API Key Setup\n",
    "Set up environment variables and load API keys for data access."
   ]
  },
  {
   "cell_type": "code",
   "execution_count": 1,
   "id": "c14c1c7c",
   "metadata": {},
   "outputs": [],
   "source": [
    "# ### Environment and API Key Setup\n",
    "# Set up environment variables and load API keys for data access.\n",
    "import os\n",
    "import requests\n",
    "import pandas as pd\n",
    "from dotenv import load_dotenv\n",
    "\n",
    "# Load environment variables from .env file\n",
    "load_dotenv()\n",
    "COINGECK_API = os.getenv('GECKO_API')  # CoinGecko API key (if needed)\n",
    "#ETHERSCAN_API_KEY = os.getenv('ETHERSCAN_API')  # Etherscan API key (if needed)\n",
    "API_KEY = os.getenv('DUNE_CUSTOM_API')  # Dune custom endpoint API key\n"
   ]
  },
  {
   "cell_type": "markdown",
   "id": "0c77da53",
   "metadata": {},
   "source": [
    "### Fetch Whale Transaction Data\n",
    "Retrieve Ethereum whale transaction data using Dune custom endpoint."
   ]
  },
  {
   "cell_type": "code",
   "execution_count": 2,
   "id": "ec68aca3",
   "metadata": {},
   "outputs": [
    {
     "name": "stdout",
     "output_type": "stream",
     "text": [
      "                             whale_transfer_count    whale_volume_usd\n",
      "day                                                                  \n",
      "2025-08-07 00:00:00.000 UTC                  4040   $3,846,522,796.69\n",
      "2025-08-06 00:00:00.000 UTC                  6408  $11,240,328,895.71\n",
      "2025-08-05 00:00:00.000 UTC                  7163  $12,013,744,506.35\n",
      "2025-08-04 00:00:00.000 UTC                  8027  $14,924,857,584.20\n",
      "2025-08-03 00:00:00.000 UTC                  6541   $7,100,483,296.62\n",
      "...                                           ...                 ...\n",
      "2025-05-13 00:00:00.000 UTC                  8556   $8,363,297,586.85\n",
      "2025-05-12 00:00:00.000 UTC                  8528   $8,263,243,399.90\n",
      "2025-05-11 00:00:00.000 UTC                  5586   $4,806,501,373.86\n",
      "2025-05-10 00:00:00.000 UTC                  6795   $5,381,494,809.89\n",
      "2025-05-09 00:00:00.000 UTC                  4123   $4,787,636,174.89\n",
      "\n",
      "[91 rows x 2 columns]\n"
     ]
    }
   ],
   "source": [
    "# ### Fetch Whale Transaction Data\n",
    "# Retrieve Ethereum whale transaction data using Dune custom endpoint.\n",
    "from dune_client.client import DuneClient\n",
    "import pandas as pd\n",
    "\n",
    "# Initialize Dune client\n",
    "dune = DuneClient(API_KEY)\n",
    "\n",
    "# Fetch whale transaction data\n",
    "response = dune.get_custom_endpoint_result(\n",
    "    \"firstbml\",\n",
    "    \"ethereum-whale-transactions\",\n",
    "    limit=100\n",
    ")\n",
    "\n",
    "# Convert response to DataFrame\n",
    "df = pd.DataFrame(response.get_rows())\n",
    "\n",
    "# Format whale_volume_usd as currency if present\n",
    "if 'whale_volume_usd' in df.columns:\n",
    "    df['whale_volume_usd'] = df['whale_volume_usd'].astype(float).map(lambda x: f\"${x:,.2f}\")\n",
    "\n",
    "# Set 'day' as the index if present\n",
    "if 'day' in df.columns:\n",
    "    df.set_index('day', inplace=True)\n",
    "\n",
    "print(df.head(100))"
   ]
  },
  {
   "cell_type": "markdown",
   "id": "aebee470",
   "metadata": {},
   "source": [
    "### Fetche the daily price of Ethereum (ETH) in USD for the last 30 days from the CoinGecko API"
   ]
  },
  {
   "cell_type": "code",
   "execution_count": 3,
   "id": "85022dce",
   "metadata": {},
   "outputs": [],
   "source": [
    "# ### Fetch Ethereum Price Data\n",
    "# Get daily Ethereum price data for the last 30 days from CoinGecko.\n",
    "import requests\n",
    "import pandas as pd\n",
    "\n",
    "# Define CoinGecko endpoint and parameters\n",
    "coingecko_url = \"https://api.coingecko.com/api/v3/coins/ethereum/market_chart\"\n",
    "params = {\n",
    "    \"vs_currency\": \"usd\",\n",
    "    \"days\": \"91\",\n",
    "    \"interval\": \"daily\"\n",
    "}\n",
    "\n",
    "# Fetch price data\n",
    "cg_response = requests.get(coingecko_url, params=params)\n",
    "cg_data = cg_response.json()\n",
    "\n",
    "# Convert to DataFrame\n",
    "eth_prices = pd.DataFrame(cg_data['prices'], columns=['timestamp', 'eth_price'])\n",
    "eth_prices['timestamp'] = pd.to_datetime(eth_prices['timestamp'], unit='ms')\n",
    "eth_prices['date'] = eth_prices['timestamp'].dt.date\n",
    "eth_prices = eth_prices[['date', 'eth_price']]\n"
   ]
  },
  {
   "cell_type": "markdown",
   "id": "93fd88d9",
   "metadata": {},
   "source": [
    "### Aggregate Whale Volume by Day\n",
    "Process and aggregate whale transaction volume to daily totals."
   ]
  },
  {
   "cell_type": "code",
   "execution_count": 4,
   "id": "c3a78434",
   "metadata": {},
   "outputs": [
    {
     "name": "stdout",
     "output_type": "stream",
     "text": [
      "                            day    whale_volume_usd\n",
      "0   2025-05-09 00:00:00.000 UTC   $4,787,636,174.89\n",
      "1   2025-05-10 00:00:00.000 UTC   $5,381,494,809.89\n",
      "2   2025-05-11 00:00:00.000 UTC   $4,806,501,373.86\n",
      "3   2025-05-12 00:00:00.000 UTC   $8,263,243,399.90\n",
      "4   2025-05-13 00:00:00.000 UTC   $8,363,297,586.85\n",
      "..                          ...                 ...\n",
      "86  2025-08-03 00:00:00.000 UTC   $7,100,483,296.62\n",
      "87  2025-08-04 00:00:00.000 UTC  $14,924,857,584.20\n",
      "88  2025-08-05 00:00:00.000 UTC  $12,013,744,506.35\n",
      "89  2025-08-06 00:00:00.000 UTC  $11,240,328,895.71\n",
      "90  2025-08-07 00:00:00.000 UTC   $3,846,522,796.69\n",
      "\n",
      "[91 rows x 2 columns]\n"
     ]
    }
   ],
   "source": [
    "# Aggregate whale volume by day\n",
    "# Handle both string and float types\n",
    "colname = None\n",
    "if 'total_whale_volume_usd' in df.columns:\n",
    "    colname = 'total_whale_volume_usd'\n",
    "elif 'whale_volume_usd' in df.columns:\n",
    "    colname = 'whale_volume_usd'\n",
    "\n",
    "# Use the correct date column for grouping\n",
    "date_col = None\n",
    "if 'date' in df.columns:\n",
    "    date_col = 'date'\n",
    "elif 'day' in df.columns:\n",
    "    date_col = 'day'\n",
    "elif df.index.name in ['date', 'day']:\n",
    "    df = df.reset_index()\n",
    "    if 'date' in df.columns:\n",
    "        date_col = 'date'\n",
    "    elif 'day' in df.columns:\n",
    "        date_col = 'day'\n",
    "\n",
    "if colname and date_col:\n",
    "    if df[colname].dtype == 'O':\n",
    "        # If object, clean and convert\n",
    "        daily_whale_volume = df.groupby(date_col)[colname].apply(\n",
    "            lambda x: pd.to_numeric(x.str.replace(r'[$,]', '', regex=True), errors='coerce').sum()\n",
    "        ).reset_index()\n",
    "    else:\n",
    "        # If already numeric\n",
    "        daily_whale_volume = df.groupby(date_col)[colname].sum().reset_index()\n",
    "    daily_whale_volume.columns = [date_col, 'whale_volume_usd']  # Rename columns\n",
    "    # Format whale_volume_usd as currency\n",
    "    daily_whale_volume['whale_volume_usd'] = daily_whale_volume['whale_volume_usd'].map(lambda x: f\"${x:,.2f}\")\n",
    "    print(daily_whale_volume.head(91))  # Display first 20 rows\n",
    "else:\n",
    "    print(\"No whale volume column or date column found in DataFrame\")"
   ]
  },
  {
   "cell_type": "markdown",
   "id": "59edce8c",
   "metadata": {},
   "source": [
    "### Format and Display Merged Data\n",
    "Format whale volume and ETH price as currency and display sample merged data."
   ]
  },
  {
   "cell_type": "code",
   "execution_count": 5,
   "id": "cae3e046",
   "metadata": {},
   "outputs": [
    {
     "name": "stdout",
     "output_type": "stream",
     "text": [
      "          date    whale_volume_usd    eth_price\n",
      "0   2025-05-09   $4,787,636,174.89  2197.561189\n",
      "1   2025-05-10   $5,381,494,809.89  2341.407963\n",
      "2   2025-05-11   $4,806,501,373.86  2583.682905\n",
      "3   2025-05-12   $8,263,243,399.90  2507.469311\n",
      "4   2025-05-13   $8,363,297,586.85  2492.426391\n",
      "..         ...                 ...          ...\n",
      "86  2025-08-03   $7,100,483,296.62  3397.485548\n",
      "87  2025-08-04  $14,924,857,584.20  3497.573128\n",
      "88  2025-08-05  $12,013,744,506.35  3715.709015\n",
      "89  2025-08-06  $11,240,328,895.71  3612.442432\n",
      "90  2025-08-07   $3,846,522,796.69  3684.045920\n",
      "\n",
      "[91 rows x 3 columns]\n"
     ]
    }
   ],
   "source": [
    "# Step 1: Make sure both date columns are of type datetime.date\n",
    "eth_prices['date'] = pd.to_datetime(eth_prices['date']).dt.date\n",
    "daily_whale_volume['day'] = pd.to_datetime(daily_whale_volume['day']).dt.date\n",
    "\n",
    "# Step 2: Merge on date\n",
    "merged = pd.merge(\n",
    "    eth_prices,\n",
    "    daily_whale_volume,\n",
    "    left_on='date',\n",
    "    right_on='day',\n",
    "    how='inner'\n",
    ")\n",
    "\n",
    "# Step 3: Convert '$' string columns to float\n",
    "merged['whale_volume_usd_num'] = pd.to_numeric(merged['whale_volume_usd'].replace(r'[$,]', '', regex=True), errors='coerce')\n",
    "merged['eth_price_num'] = pd.to_numeric(merged['eth_price'].replace(r'[$,]', '', regex=True), errors='coerce')\n",
    "\n",
    "\n",
    "print(merged[['date', 'whale_volume_usd', 'eth_price']].head(91))  # Display first 30 rows"
   ]
  },
  {
   "cell_type": "markdown",
   "id": "6f00a814",
   "metadata": {},
   "source": [
    "### Bar chart for whale volume and line chart for ETH price on the same plot"
   ]
  },
  {
   "cell_type": "code",
   "execution_count": 1,
   "id": "f247c01a",
   "metadata": {},
   "outputs": [
    {
     "ename": "NameError",
     "evalue": "name 'merged' is not defined",
     "output_type": "error",
     "traceback": [
      "\u001b[31m---------------------------------------------------------------------------\u001b[39m",
      "\u001b[31mNameError\u001b[39m                                 Traceback (most recent call last)",
      "\u001b[36mCell\u001b[39m\u001b[36m \u001b[39m\u001b[32mIn[1]\u001b[39m\u001b[32m, line 14\u001b[39m\n\u001b[32m     10\u001b[39m ax1.xaxis.set_major_formatter(mdates.DateFormatter(\u001b[33m'\u001b[39m\u001b[33m%\u001b[39m\u001b[33mb \u001b[39m\u001b[38;5;132;01m%d\u001b[39;00m\u001b[33m'\u001b[39m))    \u001b[38;5;66;03m# Format as 'Aug 01'\u001b[39;00m\n\u001b[32m     13\u001b[39m \u001b[38;5;66;03m# Bar chart for whale volume (left y-axis)\u001b[39;00m\n\u001b[32m---> \u001b[39m\u001b[32m14\u001b[39m ax1.bar(\u001b[43mmerged\u001b[49m[\u001b[33m'\u001b[39m\u001b[33mdate\u001b[39m\u001b[33m'\u001b[39m], merged[\u001b[33m'\u001b[39m\u001b[33mwhale_volume_usd_num\u001b[39m\u001b[33m'\u001b[39m], color=\u001b[33m'\u001b[39m\u001b[33mtab:blue\u001b[39m\u001b[33m'\u001b[39m, alpha=\u001b[32m0.6\u001b[39m, label=\u001b[33m'\u001b[39m\u001b[33mWhale Volume (USD)\u001b[39m\u001b[33m'\u001b[39m)\n\u001b[32m     15\u001b[39m ax1.set_ylabel(\u001b[33m'\u001b[39m\u001b[33mWhale Volume (USD)\u001b[39m\u001b[33m'\u001b[39m, color=\u001b[33m'\u001b[39m\u001b[33mtab:blue\u001b[39m\u001b[33m'\u001b[39m)\n\u001b[32m     16\u001b[39m ax1.tick_params(axis=\u001b[33m'\u001b[39m\u001b[33my\u001b[39m\u001b[33m'\u001b[39m, labelcolor=\u001b[33m'\u001b[39m\u001b[33mtab:blue\u001b[39m\u001b[33m'\u001b[39m)\n",
      "\u001b[31mNameError\u001b[39m: name 'merged' is not defined"
     ]
    },
    {
     "data": {
      "image/png": "[encoded data removed]",
      "text/plain": [
       "<Figure size 1200x600 with 1 Axes>"
      ]
     },
     "metadata": {},
     "output_type": "display_data"
    }
   ],
   "source": [
    "import pandas as pd\n",
    "import matplotlib.pyplot as plt\n",
    "import matplotlib.dates as mdates\n",
    "\n",
    "# Step 4: Plot\n",
    "fig, ax1 = plt.subplots(figsize=(12, 6))\n",
    "\n",
    "# Format x-axis date ticks\n",
    "ax1.xaxis.set_major_locator(mdates.WeekdayLocator(interval=7))  # Show one tick every 7 days\n",
    "ax1.xaxis.set_major_formatter(mdates.DateFormatter('%b %d'))    # Format as 'Aug 01'\n",
    "\n",
    "\n",
    "# Bar chart for whale volume (left y-axis)\n",
    "ax1.bar(merged['date'], merged['whale_volume_usd_num'], color='tab:blue', alpha=0.6, label='Whale Volume (USD)')\n",
    "ax1.set_ylabel('Whale Volume (USD)', color='tab:blue')\n",
    "ax1.tick_params(axis='y', labelcolor='tab:blue')\n",
    "ax1.set_xlabel('Date')\n",
    "ax1.set_xticks(merged['date'][::max(len(merged)//10,1)])  # reduce ticks\n",
    "ax1.tick_params(axis='x', rotation=45)\n",
    "\n",
    "# Line chart for ETH price (right y-axis)\n",
    "ax2 = ax1.twinx()\n",
    "ax2.plot(merged['date'], merged['eth_price_num'], color='tab:red', label='ETH Price')\n",
    "ax2.set_ylabel('ETH Price (USD)', color='tab:red')\n",
    "ax2.tick_params(axis='y', labelcolor='tab:red')\n",
    "\n",
    "# Title and legend\n",
    "plt.title('Whale Volume vs ETH Price Over Time')\n",
    "fig.tight_layout()\n",
    "plt.show()\n"
   ]
  },
  {
   "cell_type": "markdown",
   "id": "f7456969",
   "metadata": {},
   "source": [
    "### Correlation Analysis\n",
    "Calculate and print the correlation between whale volume and ETH price."
   ]
  },
  {
   "cell_type": "code",
   "execution_count": 7,
   "id": "5de2ac73",
   "metadata": {},
   "outputs": [
    {
     "name": "stdout",
     "output_type": "stream",
     "text": [
      "Correlation between ETH price and whale volume: 0.5960\n"
     ]
    }
   ],
   "source": [
    "# Ensure numeric columns are clean and available\n",
    "merged['whale_volume_usd_num'] = pd.to_numeric(\n",
    "    merged['whale_volume_usd'].replace(r'[$,]', '', regex=True),\n",
    "    errors='coerce'\n",
    ")\n",
    "merged['eth_price_num'] = pd.to_numeric(\n",
    "    merged['eth_price'].replace(r'[$,]', '', regex=True),\n",
    "    errors='coerce'\n",
    ")\n",
    "\n",
    "# Drop rows with NaN values in either column (optional but recommended)\n",
    "cleaned = merged.dropna(subset=['whale_volume_usd_num', 'eth_price_num'])\n",
    "\n",
    "# Calculate correlation\n",
    "correlation = cleaned['whale_volume_usd_num'].corr(cleaned['eth_price_num'])\n",
    "\n",
    "# Print result\n",
    "print(f\"Correlation between ETH price and whale volume: {correlation:.4f}\")\n"
   ]
  },
  {
   "cell_type": "markdown",
   "id": "2ea1b479",
   "metadata": {},
   "source": [
    "### Visualization\n",
    "Plot daily whale volume and ETH price with dual y-axes for trend analysis."
   ]
  },
  {
   "cell_type": "code",
   "execution_count": 18,
   "id": "3662b29e",
   "metadata": {},
   "outputs": [
    {
     "data": {
      "image/png": "[encoded data removed]",
      "text/plain": [
       "<Figure size 1000x600 with 1 Axes>"
      ]
     },
     "metadata": {},
     "output_type": "display_data"
    }
   ],
   "source": [
    "plt.figure(figsize=(10, 6))\n",
    "plt.scatter(cleaned['whale_volume_usd_num'], cleaned['eth_price_num'], alpha=0.7)\n",
    "plt.title(f'ETH Price vs Whale Transfer Volume\\nCorrelation = {correlation:.4f}')\n",
    "plt.xlabel('Whale Transfer Volume (USD)')\n",
    "plt.ylabel('ETH Price (USD)')\n",
    "plt.grid(True)\n",
    "plt.tight_layout()\n",
    "plt.show()"
   ]
  }
 ],
 "metadata": {
  "kernelspec": {
   "display_name": "Python 3",
   "language": "python",
   "name": "python3"
  },
  "language_info": {
   "codemirror_mode": {
    "name": "ipython",
    "version": 3
   },
   "file_extension": ".py",
   "mimetype": "text/x-python",
   "name": "python",
   "nbconvert_exporter": "python",
   "pygments_lexer": "ipython3",
   "version": "3.13.1"
  }
 },
 "nbformat": 4,
 "nbformat_minor": 5
}
